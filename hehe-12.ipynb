{
 "cells": [
  {
   "cell_type": "markdown",
   "metadata": {},
   "source": [
    "# Path changing"
   ]
  },
  {
   "cell_type": "code",
   "execution_count": 1,
   "metadata": {},
   "outputs": [],
   "source": [
    "import torch\n",
    "import torchvision\n",
    "import torchvision.models as models\n",
    "import torchvision.transforms as T"
   ]
  },
  {
   "cell_type": "code",
   "execution_count": 2,
   "metadata": {
    "_cell_guid": "b1076dfc-b9ad-4769-8c92-a6c4dae69d19",
    "_uuid": "8f2839f25d086af736a60e9eeb907d3b93b6e0e5"
   },
   "outputs": [],
   "source": [
    "from tqdm import tqdm\n",
    "from datetime import datetime\n",
    "import time\n",
    "\n",
    "import json\n",
    "\n",
    "from PIL import Image"
   ]
  },
  {
   "cell_type": "code",
   "execution_count": 3,
   "metadata": {},
   "outputs": [
    {
     "data": {
      "text/plain": [
       "{'path': './Flowers/Babi/babi_1.jpg', 'boxes': [[63.0, 31.0, 118.0, 96.0]]}"
      ]
     },
     "execution_count": 3,
     "metadata": {},
     "output_type": "execute_result"
    }
   ],
   "source": [
    "with open(\"COCO_metadata.json\", \"r\") as file:\n",
    "    metadata = json.load(file)\n",
    "metadata['Babi'][0]"
   ]
  },
  {
   "cell_type": "code",
   "execution_count": 5,
   "metadata": {},
   "outputs": [
    {
     "name": "stdout",
     "output_type": "stream",
     "text": [
      "797\n",
      "309\n",
      "678\n",
      "462\n",
      "826\n",
      "331\n",
      "166\n",
      "487\n"
     ]
    },
    {
     "data": {
      "text/plain": [
       "{'path': './Flowers/Babi/babi_1.jpg',\n",
       " 'boxes': [[63.0, 31.0, 118.0, 96.0]],\n",
       " 'label': 'Babi'}"
      ]
     },
     "execution_count": 5,
     "metadata": {},
     "output_type": "execute_result"
    }
   ],
   "source": [
    "metadata_array = []\n",
    "for i in metadata:\n",
    "    print(len(metadata[i]))\n",
    "    for j in metadata[i]:\n",
    "        new_meta = j.copy()\n",
    "        new_meta[\"label\"] = i \n",
    "        metadata_array.append(new_meta)\n",
    "metadata_array[0]"
   ]
  },
  {
   "cell_type": "code",
   "execution_count": 17,
   "metadata": {},
   "outputs": [],
   "source": [
    "class CustomDataset(torch.utils.data.Dataset):\n",
    "    def __init__(self, data):\n",
    "        # Read the CSV file into a Pandas DataFrame.\n",
    "        self.data = data\n",
    "\n",
    "        # Create a list of image paths and bounding boxes.\n",
    "        self.images = self.image_preprocess([i['path'] for i in data])\n",
    "        self.bounding_box = [i['boxes'] for i in data]\n",
    "        self.label = [i['label'] for i in data]\n",
    "        \n",
    "        \n",
    "    def __len__(self):\n",
    "        return len(self.images)\n",
    "\n",
    "    def __getitem__(self, index):\n",
    "        # Get the image path and bounding box from the index.\n",
    "        # print(self.data)\n",
    "        image_path = self.images[index]\n",
    "        bounding_box = self.bounding_box[index]\n",
    "        labels = torch.ones((bounding_box.shape[0]), dtype=torch.int64)\n",
    "        \n",
    "        target = {}\n",
    "        target['boxes'] = torch.tensor(bounding_box)\n",
    "        target['labels'] = labels\n",
    "\n",
    "        return T.ToTensor()(image), target\n",
    "    def image_preprocess(self, image_paths_arr):\n",
    "        result = []\n",
    "        for path in image_paths_arr:\n",
    "            image = Image.open(path).convert('RGB')\n",
    "            image = T.Resize((256, 256))(image)\n",
    "            result.append(T.ToTensor()(image))\n",
    "        return result"
   ]
  },
  {
   "cell_type": "code",
   "execution_count": 18,
   "metadata": {},
   "outputs": [],
   "source": [
    "from sklearn.model_selection import train_test_split\n",
    "\n",
    "train_inds, val_inds = train_test_split(metadata_array, test_size=0.2, random_state=333)"
   ]
  },
  {
   "cell_type": "code",
   "execution_count": 19,
   "metadata": {},
   "outputs": [],
   "source": [
    "# train_inds.info()\n",
    "# val_inds.info()"
   ]
  },
  {
   "cell_type": "code",
   "execution_count": 20,
   "metadata": {},
   "outputs": [],
   "source": [
    "def collate_fn(batch):\n",
    "    return tuple(zip(*batch))"
   ]
  },
  {
   "cell_type": "code",
   "execution_count": 21,
   "metadata": {},
   "outputs": [
    {
     "data": {
      "text/plain": [
       "<torch.utils.data.dataloader.DataLoader at 0x1498f775f00>"
      ]
     },
     "execution_count": 21,
     "metadata": {},
     "output_type": "execute_result"
    }
   ],
   "source": [
    "train_dl = torch.utils.data.DataLoader(CustomDataset(train_inds),\n",
    "                                       batch_size=2,\n",
    "                                       shuffle=True,\n",
    "                                       collate_fn=collate_fn,\n",
    "                                       num_workers=2,\n",
    "                                       pin_memory = True if torch.cuda.is_available() else False)\n",
    "train_dl"
   ]
  },
  {
   "cell_type": "code",
   "execution_count": 22,
   "metadata": {},
   "outputs": [
    {
     "data": {
      "text/plain": [
       "<torch.utils.data.dataloader.DataLoader at 0x1498f880eb0>"
      ]
     },
     "execution_count": 22,
     "metadata": {},
     "output_type": "execute_result"
    }
   ],
   "source": [
    "val_dl = torch.utils.data.DataLoader(CustomDataset(val_inds),\n",
    "                                        batch_size=2,\n",
    "                                        shuffle=True,\n",
    "                                        collate_fn=collate_fn,\n",
    "                                        num_workers=2,\n",
    "                                        pin_memory = True if torch.cuda.is_available() else False)\n",
    "val_dl"
   ]
  },
  {
   "cell_type": "code",
   "execution_count": 23,
   "metadata": {},
   "outputs": [],
   "source": [
    "import matplotlib.pyplot as plt\n",
    "import numpy as np\n",
    "from matplotlib import patches\n",
    "\n",
    "def view(images,labels,k,std=1,mean=0):\n",
    "    figure = plt.figure(figsize=(30,30))\n",
    "    images=list(images)\n",
    "    labels=list(labels)\n",
    "    for i in range(k):\n",
    "        out=torchvision.utils.make_grid(images[i])\n",
    "        inp=out.cpu().numpy().transpose((1,2,0))\n",
    "        inp=np.array(std)*inp+np.array(mean)\n",
    "        inp=np.clip(inp,0,1)  \n",
    "        ax = figure.add_subplot(2,2, i + 1)\n",
    "        ax.imshow(images[i].cpu().numpy().transpose((1,2,0)))\n",
    "        l=labels[i]['boxes'].cpu().numpy()\n",
    "        l[:,2]=l[:,2]-l[:,0]\n",
    "        l[:,3]=l[:,3]-l[:,1]\n",
    "        for j in range(len(l)):\n",
    "            ax.add_patch(patches.Rectangle((l[j][0],l[j][1]),l[j][2],l[j][3],linewidth=2,edgecolor='w',facecolor='none')) \n"
   ]
  },
  {
   "cell_type": "code",
   "execution_count": null,
   "metadata": {},
   "outputs": [],
   "source": [
    "\n",
    "images,labels=next(iter(train_dl))\n",
    "\n",
    "view(images,labels,2)\n"
   ]
  },
  {
   "cell_type": "code",
   "execution_count": 21,
   "metadata": {},
   "outputs": [],
   "source": [
    "from torchvision.models.detection.faster_rcnn import FastRCNNPredictor\n",
    "def get_model(num_classes):\n",
    "    # Load the pre-trained model\n",
    "    model = torchvision.models.detection.fasterrcnn_resnet50_fpn(weights=None)\n",
    "\n",
    "    # Replace the classifier with a new one, that has num_classes which we want to detect\n",
    "    in_features = model.roi_heads.box_predictor.cls_score.in_features\n",
    "    model.roi_heads.box_predictor = FastRCNNPredictor(in_features, num_classes)\n",
    "\n",
    "    return model"
   ]
  },
  {
   "cell_type": "code",
   "execution_count": null,
   "metadata": {},
   "outputs": [],
   "source": []
  },
  {
   "cell_type": "code",
   "execution_count": 22,
   "metadata": {},
   "outputs": [],
   "source": [
    "import time\n",
    "from datetime import datetime\n",
    "# Define the training loop\n",
    "def train(model, train_loader, optimizer, criterion, device):\n",
    "    model.train()\n",
    "    running_loss = 0\n",
    "    start_time = time.time()\n",
    "    \n",
    "    for i, (inputs, targets) in enumerate(train_loader):\n",
    "        inputs = [input.to(device) for input in inputs]\n",
    "        targets = [{k: v.to(device) for k, v in t.items()} for t in targets]\n",
    "        optimizer.zero_grad()\n",
    "        loss_dict = model(inputs, targets)\n",
    "        losses = sum(loss for loss in loss_dict.values())\n",
    "        losses.backward()\n",
    "        optimizer.step()\n",
    "        running_loss += losses.item()\n",
    "        if i % 10 == 9:\n",
    "            elapsed_time = time.time() - start_time\n",
    "            print('[Epoch: %d, Batch: %5d] loss: %.3f, time: %.3f' %\n",
    "                  (epoch + 1, i + 1, running_loss / 10, elapsed_time))\n",
    "            running_loss = 0.0\n",
    "            start_time = time.time()\n",
    "            \n",
    "            "
   ]
  },
  {
   "cell_type": "code",
   "execution_count": null,
   "metadata": {},
   "outputs": [
    {
     "name": "stderr",
     "output_type": "stream",
     "text": [
      "Downloading: \"https://download.pytorch.org/models/resnet50-0676ba61.pth\" to C:\\Users\\trann/.cache\\torch\\hub\\checkpoints\\resnet50-0676ba61.pth\n",
      "100%|█████████████████████████████████████████████████████████████████████████████| 97.8M/97.8M [00:08<00:00, 12.4MB/s]\n"
     ]
    },
    {
     "name": "stdout",
     "output_type": "stream",
     "text": [
      "Start training - - -\n"
     ]
    },
    {
     "name": "stderr",
     "output_type": "stream",
     "text": [
      "  0%|                                                                                         | 0/1622 [00:00<?, ?it/s]"
     ]
    }
   ],
   "source": [
    "# Define the device\n",
    "device = torch.device(\"cuda\" if torch.cuda.is_available() else \"cpu\")\n",
    "EPOCH_COUNT = 1\n",
    "# # Define the dataset and data loader\n",
    "# dataset = CustomDataset(img_folder='path/to/images', annotations_file='path/to/annotations.json', transform=transforms.ToTensor())\n",
    "# train_loader = DataLoader(dataset, batch_size=4, shuffle=True, num_workers=4)\n",
    "\n",
    "# Define the model\n",
    "num_classes = 2 # Number of classes (including background)\n",
    "model = get_model(num_classes).to(device)\n",
    "\n",
    "\n",
    "# Define the loss function and optimizer\n",
    "criterion = torch.nn.CrossEntropyLoss()\n",
    "optimizer = torch.optim.SGD(model.parameters(), lr = 0.001, momentum=0.9, weight_decay=0.0005)\n",
    "\n",
    "\n",
    "print(\"Start training - - -\")\n",
    "for epoch in range(EPOCH_COUNT):\n",
    "    running_loss = 0\n",
    "    correct = 0\n",
    "    timestamp_start = datetime.now()\n",
    "    for images, targets in tqdm(train_dl):\n",
    "        \n",
    "        # Move the data to the device.\n",
    "        images = list(image.to(device) for image in images)\n",
    "        targets = [{k: v.to(device) for k, v in t.items()} for t in targets]\n",
    "\n",
    "        # Zero the gradients and compute the loss.\n",
    "        optimizer.zero_grad()\n",
    "        loss_dict = model(images, targets)\n",
    "        losses = sum(loss for loss in loss_dict.values())\n",
    "        loss_dict_reduced = {k: v.mean() for k, v in loss_dict.items()}\n",
    "        losses_reduced = sum(loss for loss in loss_dict_reduced.values())\n",
    "        losses_reduced.backward()\n",
    "        \n",
    "        # Update the parameters and print the loss.\n",
    "        optimizer.step()\n",
    "        running_loss += losses.item()\n",
    "        \n",
    "    timestamp_end = datetime.now()  \n",
    "        \n",
    "    print('Epoch:', epoch, 'Loss:', running_loss/len(train_dl), f'{(timestamp_end - timestamp_start).total_seconds()}s')\n",
    "\n",
    "    "
   ]
  },
  {
   "cell_type": "code",
   "execution_count": null,
   "metadata": {},
   "outputs": [],
   "source": [
    "# torch.save(model.state_dict(), model.pt)"
   ]
  },
  {
   "cell_type": "code",
   "execution_count": null,
   "metadata": {},
   "outputs": [],
   "source": [
    "images,targets=next(iter(val_dl))\n",
    "images = list(image.to(device) for image in images)\n",
    "targets = [{k: v.to(device) for k, v in t.items()} for t in targets]\n",
    "\n",
    "model.eval()\n",
    "output=model(images)\n",
    "\n",
    "with torch.no_grad():\n",
    "    view(images,output,8)"
   ]
  },
  {
   "cell_type": "code",
   "execution_count": null,
   "metadata": {},
   "outputs": [],
   "source": []
  }
 ],
 "metadata": {
  "kernelspec": {
   "display_name": "Python 3 (ipykernel)",
   "language": "python",
   "name": "python3"
  },
  "language_info": {
   "codemirror_mode": {
    "name": "ipython",
    "version": 3
   },
   "file_extension": ".py",
   "mimetype": "text/x-python",
   "name": "python",
   "nbconvert_exporter": "python",
   "pygments_lexer": "ipython3",
   "version": "3.10.9"
  }
 },
 "nbformat": 4,
 "nbformat_minor": 4
}
