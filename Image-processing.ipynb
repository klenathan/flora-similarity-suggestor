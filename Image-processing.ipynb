{
 "cells": [
  {
   "cell_type": "code",
   "execution_count": 81,
   "id": "e756cf86-6ea0-4bc9-a1ea-51d9947fe2f4",
   "metadata": {},
   "outputs": [],
   "source": [
    "import numpy as np\n",
    "import matplotlib.pyplot as plt\n",
    "import seaborn as sns\n",
    "\n",
    "import json\n",
    "import pathlib\n",
    "import os\n",
    "import pandas as pd\n",
    "\n",
    "import tensorflow as tf\n",
    "import tensorflow_hub as hub\n",
    "from tensorflow.keras import Sequential, layers\n",
    "from tensorflow.keras.preprocessing.image import load_img\n",
    "sns.set()\n",
    "\n",
    "from PIL import Image, ImageFont, ImageDraw, ImageEnhance\n",
    "from IPython.display import display \n",
    "\n",
    "from sklearn.model_selection import train_test_split\n",
    "from sklearn.metrics import classification_report, confusion_matrix"
   ]
  },
  {
   "cell_type": "code",
   "execution_count": 82,
   "id": "11204e32-f3fc-4aee-a49a-7fe2d91b4149",
   "metadata": {},
   "outputs": [
    {
     "name": "stdout",
     "output_type": "stream",
     "text": [
      "hydrangeas_1.json\n"
     ]
    }
   ],
   "source": [
    "meta_data_dir = './Output_clean'\n",
    "meta_data_labels = sorted(os.listdir(meta_data))\n",
    "# print(meta_data_labels[0])\n"
   ]
  },
  {
   "cell_type": "code",
   "execution_count": 37,
   "id": "b0489f97-4a55-4c9b-a285-c1868ca953e4",
   "metadata": {},
   "outputs": [
    {
     "data": {
      "text/plain": [
       "['Babi', 'Calimerio', 'Chrysanthemum', 'Hydrangeas', 'Lisianthus', 'Pingpong']"
      ]
     },
     "execution_count": 37,
     "metadata": {},
     "output_type": "execute_result"
    }
   ],
   "source": [
    "flowers_dir = './Flowers/'\n",
    "flower_labels = sorted(os.listdir(flowers_dir))\n",
    "flower_labels"
   ]
  },
  {
   "cell_type": "code",
   "execution_count": 180,
   "id": "8238fece-8d1d-400a-8a44-76432366eeef",
   "metadata": {},
   "outputs": [],
   "source": [
    "def get_crop_cordinate(cord1, cord2):\n",
    "    x1, y1 = cord1\n",
    "    x2, y2 = cord2\n",
    "    x = min(x1, x2)\n",
    "    y = min(y1, y2)\n",
    "    return (min(x1, x2), min(y1, y2), max(x1, x2), max(y1, y2))\n",
    "def show_bounding_data():\n",
    "    images = []\n",
    "    for file in meta_data_labels:\n",
    "        f = open(meta_data + \"/\" + file)\n",
    "        meta_data_ = json.load(f)\n",
    "        \n",
    "        current_path = '/'.join(meta_data_['imagePath'].split('\\\\')[-2:])\n",
    "       \n",
    "        file_path = flowers_dir + \"/\".join(meta_data_['imagePath'].split(\"\\\\\")[-2:])\n",
    "        source_img = Image.open(file_path).convert(\"RGB\")\n",
    "        draw = ImageDraw.Draw(source_img)\n",
    "    \n",
    "        for k, i in enumerate(meta_data_['shapes']):\n",
    "            crop_cord = get_crop_cordinate(i['points'][0], i['points'][1])\n",
    "            file_name = meta_data_['imagePath'].split('\\\\')[-1].split(\".\")[0] + f\"_{k}.jpg\"\n",
    "            # print(crop_cord, current_path, source_img.size)\n",
    "            cropped = source_img.crop(crop_cord)\n",
    "            try:\n",
    "                cropped.save(f\"./Crop_img/{file_name}\")\n",
    "            except:\n",
    "                print(\"failed\", crop_cord, current_path, source_img.size)\n",
    "            # points = ((tuple(i['points'][0]), tuple(i['points'][1])))\n",
    "            # draw.rectangle(points)\n",
    "            # images.append(source_img)"
   ]
  },
  {
   "cell_type": "code",
   "execution_count": 181,
   "id": "ad0030db-7390-4c40-bc23-92ebac750e6e",
   "metadata": {},
   "outputs": [
    {
     "name": "stdout",
     "output_type": "stream",
     "text": [
      "failed (134.0, 44.0, 142.0, 44.0) Hydrangeas/hydrangeas_109.jpg (194, 259)\n",
      "failed (52.0, 122.0, 52.0, 134.0) Hydrangeas/hydrangeas_112.jpg (239, 211)\n"
     ]
    }
   ],
   "source": [
    "show_bounding_data()"
   ]
  },
  {
   "cell_type": "code",
   "execution_count": null,
   "id": "75041a6a-fa2d-4e34-a81a-ce2be9fdf72d",
   "metadata": {},
   "outputs": [],
   "source": [
    "flowers_dir = './Flowers_cleaned/'\n",
    "flower_labels = sorted(os.listdir(flowers_dir))\n",
    "flower_labels"
   ]
  }
 ],
 "metadata": {
  "kernelspec": {
   "display_name": "Python 3 (ipykernel)",
   "language": "python",
   "name": "python3"
  },
  "language_info": {
   "codemirror_mode": {
    "name": "ipython",
    "version": 3
   },
   "file_extension": ".py",
   "mimetype": "text/x-python",
   "name": "python",
   "nbconvert_exporter": "python",
   "pygments_lexer": "ipython3",
   "version": "3.10.9"
  }
 },
 "nbformat": 4,
 "nbformat_minor": 5
}
