{
 "cells": [
  {
   "cell_type": "code",
   "execution_count": null,
   "metadata": {
    "execution": {
     "iopub.execute_input": "2023-05-04T13:26:53.575656Z",
     "iopub.status.busy": "2023-05-04T13:26:53.574818Z",
     "iopub.status.idle": "2023-05-04T13:27:02.248821Z",
     "shell.execute_reply": "2023-05-04T13:27:02.247845Z",
     "shell.execute_reply.started": "2023-05-04T13:26:53.575620Z"
    }
   },
   "outputs": [],
   "source": [
    "import numpy as np\n",
    "import pandas as pd\n",
    "import scipy\n",
    "import matplotlib.pyplot as plt \n",
    "import statsmodels.api as sm\n",
    "import seaborn as sns\n",
    "import sklearn\n",
    "\n",
    "from sklearn.model_selection import train_test_split\n",
    "sns.set()\n",
    "\n",
    "import tensorflow as tf\n",
    "from tensorflow.keras.preprocessing.image import ImageDataGenerator\n",
    "\n",
    "print(\"TF version:\", tf.__version__)\n",
    "print(\"Done loading packages\")"
   ]
  },
  {
   "cell_type": "code",
   "execution_count": null,
   "metadata": {},
   "outputs": [],
   "source": []
  },
  {
   "cell_type": "code",
   "execution_count": null,
   "metadata": {
    "execution": {
     "iopub.execute_input": "2023-05-04T13:27:02.251486Z",
     "iopub.status.busy": "2023-05-04T13:27:02.250735Z",
     "iopub.status.idle": "2023-05-04T13:27:03.717204Z",
     "shell.execute_reply": "2023-05-04T13:27:03.716165Z",
     "shell.execute_reply.started": "2023-05-04T13:27:02.251448Z"
    }
   },
   "outputs": [],
   "source": [
    "import os\n",
    "\n",
    "def scanData():\n",
    "    data_count = pd.DataFrame(data={\"flower\": [], \"count\": []})\n",
    "    meta_data_df = pd.DataFrame(data={\"image_path\": [], \"flower_type\": []})\n",
    "    folder_path = \"./Flowers_cleaned/\"\n",
    "\n",
    "    subdirectories = next(os.walk(folder_path))[1]\n",
    "\n",
    "    print(subdirectories)\n",
    "\n",
    "    for i in subdirectories:\n",
    "        sub = next(os.walk(folder_path+\"/\"+i))\n",
    "        \n",
    "        new_meta_data = pd.DataFrame(data={\"image_path\": [ (sub[0] + \"/\" + j) for j in sub[2]] , \"flower_type\": i})\n",
    "        meta_data_df = pd.concat([meta_data_df, new_meta_data], ignore_index=True)\n",
    "        \n",
    "        new_data = pd.DataFrame(data={\"flower\": i, \"count\": len(sub[2])}, index=[0])      \n",
    "        data_count = pd.concat([data_count, new_data], ignore_index=True)\n",
    "        print(i, len(sub[2]), len([ sub[0] + j for j in sub[2]]))\n",
    "\n",
    "    return data_count, meta_data_df\n",
    "\n",
    "img_count, meta_data = scanData()\n",
    "img_count"
   ]
  },
  {
   "cell_type": "code",
   "execution_count": null,
   "metadata": {
    "execution": {
     "iopub.execute_input": "2023-05-04T13:27:03.719563Z",
     "iopub.status.busy": "2023-05-04T13:27:03.718839Z",
     "iopub.status.idle": "2023-05-04T13:27:03.730750Z",
     "shell.execute_reply": "2023-05-04T13:27:03.729674Z",
     "shell.execute_reply.started": "2023-05-04T13:27:03.719525Z"
    }
   },
   "outputs": [],
   "source": [
    "meta_data"
   ]
  },
  {
   "cell_type": "code",
   "execution_count": null,
   "metadata": {
    "execution": {
     "iopub.execute_input": "2023-05-04T13:27:03.734207Z",
     "iopub.status.busy": "2023-05-04T13:27:03.733775Z",
     "iopub.status.idle": "2023-05-04T13:27:04.149344Z",
     "shell.execute_reply": "2023-05-04T13:27:04.148447Z",
     "shell.execute_reply.started": "2023-05-04T13:27:03.734172Z"
    }
   },
   "outputs": [],
   "source": [
    "plt.figure(figsize=(20,10))\n",
    "sns.barplot(data=img_count, x='flower', y='count')"
   ]
  },
  {
   "cell_type": "code",
   "execution_count": null,
   "metadata": {
    "execution": {
     "iopub.execute_input": "2023-05-04T14:07:16.275081Z",
     "iopub.status.busy": "2023-05-04T14:07:16.274697Z",
     "iopub.status.idle": "2023-05-04T14:07:16.281997Z",
     "shell.execute_reply": "2023-05-04T14:07:16.280931Z",
     "shell.execute_reply.started": "2023-05-04T14:07:16.275050Z"
    }
   },
   "outputs": [],
   "source": [
    "# plt.imshow(new_image = tf.image.per_image_standardization(mpimg.imread(meta_data['image_path'][i])))"
   ]
  },
  {
   "cell_type": "code",
   "execution_count": null,
   "metadata": {
    "execution": {
     "iopub.execute_input": "2023-05-04T14:13:36.523795Z",
     "iopub.status.busy": "2023-05-04T14:13:36.523413Z",
     "iopub.status.idle": "2023-05-04T14:13:41.518839Z",
     "shell.execute_reply": "2023-05-04T14:13:41.517602Z",
     "shell.execute_reply.started": "2023-05-04T14:13:36.523761Z"
    }
   },
   "outputs": [],
   "source": [
    "import matplotlib.image as mpimg\n",
    "import random\n",
    "\n",
    "fig, ax = plt.subplots(5, 5, figsize=(20,20), sharex=False)\n",
    "ax = ax.flatten()\n",
    "\n",
    "# tf.image.per_image_standardization(\n",
    "#     image\n",
    "# )\n",
    "# tf.image.rgb_to_hsv\n",
    "for k, i in enumerate([random.randint(0, 4620) for i in range(25)]):\n",
    "    ax[k].imshow(tf.image.per_image_standardization(mpimg.imread(meta_data['image_path'][i])))\n",
    "    ax[k].set_xlabel(f\"{meta_data['flower_type'][i]}\")\n",
    "    \n",
    "plt.show()"
   ]
  },
  {
   "cell_type": "code",
   "execution_count": null,
   "metadata": {
    "execution": {
     "iopub.execute_input": "2023-05-04T14:13:41.522015Z",
     "iopub.status.busy": "2023-05-04T14:13:41.521464Z",
     "iopub.status.idle": "2023-05-04T14:13:41.530502Z",
     "shell.execute_reply": "2023-05-04T14:13:41.529688Z",
     "shell.execute_reply.started": "2023-05-04T14:13:41.521981Z"
    }
   },
   "outputs": [],
   "source": [
    "def split_dataset(data):\n",
    "    TEST_RATIO = 0.2\n",
    "    train_data, test_data = train_test_split(data, test_size=TEST_RATIO, random_state=100)\n",
    "    # train_data, val_data = train_test_split(train_data, test_size=TEST_RATIO, random_state=100)\n",
    "\n",
    "    print(\"Train data : {}, Test Data: {}\".format(\n",
    "        train_data.shape[0], test_data.shape[0]))\n",
    "    return train_data, test_data\n",
    "\n",
    "train_data, test_data = split_dataset(meta_data)"
   ]
  },
  {
   "cell_type": "code",
   "execution_count": null,
   "metadata": {
    "execution": {
     "iopub.execute_input": "2023-05-04T14:13:41.532664Z",
     "iopub.status.busy": "2023-05-04T14:13:41.531754Z",
     "iopub.status.idle": "2023-05-04T14:13:41.946801Z",
     "shell.execute_reply": "2023-05-04T14:13:41.945863Z",
     "shell.execute_reply.started": "2023-05-04T14:13:41.532637Z"
    }
   },
   "outputs": [],
   "source": [
    "\n",
    "plt.figure(figsize=(20,10))\n",
    "sns.histplot(data=test_data, x='flower_type')"
   ]
  },
  {
   "cell_type": "code",
   "execution_count": null,
   "metadata": {
    "execution": {
     "iopub.execute_input": "2023-05-04T14:13:49.798453Z",
     "iopub.status.busy": "2023-05-04T14:13:49.797995Z",
     "iopub.status.idle": "2023-05-04T14:14:00.706674Z",
     "shell.execute_reply": "2023-05-04T14:14:00.705582Z",
     "shell.execute_reply.started": "2023-05-04T14:13:49.798411Z"
    }
   },
   "outputs": [],
   "source": [
    "train_data['flower_type'] = train_data['flower_type'].astype('str')\n",
    "test_data['flower_type'] = test_data['flower_type'].astype('str')\n",
    "\n",
    "\n",
    "\n",
    "train_datagen = ImageDataGenerator( rotation_range=10, # rotation\n",
    "        width_shift_range=0.2, # horizontal shift\n",
    "        height_shift_range=0.2, # vertical shift\n",
    "        zoom_range=0.2, # zoom\n",
    "        horizontal_flip=True, # horizontal flip\n",
    "        brightness_range=[0.2,1.2], # brightness\n",
    "        rescale=1., data_format='channels_last')\n",
    "test_datagen = ImageDataGenerator( rotation_range=10, # rotation\n",
    "        width_shift_range=0.2, # horizontal shift\n",
    "        height_shift_range=0.2, # vertical shift\n",
    "        zoom_range=0.2, # zoom\n",
    "        horizontal_flip=True, # horizontal flip\n",
    "        brightness_range=[0.2,1.2], # brightness\n",
    "        rescale=1., data_format='channels_last')\n",
    "\n",
    "batch_size = 32\n",
    "# train_datagen.fit(train_data)\n",
    "\n",
    "train_generator = train_datagen.flow_from_dataframe(\n",
    "        dataframe=train_data,\n",
    "        directory='.',\n",
    "        x_col=\"image_path\",\n",
    "        y_col=\"flower_type\",\n",
    "        target_size=(64, 64),\n",
    "    preprocessing_function=tf.image.per_image_standardization,\n",
    "        batch_size=batch_size,\n",
    "        class_mode='categorical')\n",
    "\n",
    "test_generator = test_datagen.flow_from_dataframe(\n",
    "        dataframe=test_data,\n",
    "        directory='.',\n",
    "        x_col=\"image_path\",\n",
    "    preprocessing_function=tf.image.per_image_standardization,\n",
    "        y_col=\"flower_type\",\n",
    "        target_size=(64, 64),\n",
    "        batch_size=batch_size,\n",
    "        class_mode='categorical')\n",
    "\n"
   ]
  },
  {
   "cell_type": "code",
   "execution_count": null,
   "metadata": {
    "execution": {
     "iopub.execute_input": "2023-05-04T14:14:00.709376Z",
     "iopub.status.busy": "2023-05-04T14:14:00.708554Z",
     "iopub.status.idle": "2023-05-04T14:14:00.716151Z",
     "shell.execute_reply": "2023-05-04T14:14:00.715150Z",
     "shell.execute_reply.started": "2023-05-04T14:14:00.709341Z"
    }
   },
   "outputs": [],
   "source": [
    "train_generator.image_data_generator"
   ]
  },
  {
   "cell_type": "code",
   "execution_count": null,
   "metadata": {
    "execution": {
     "iopub.execute_input": "2023-05-04T14:14:04.738187Z",
     "iopub.status.busy": "2023-05-04T14:14:04.737800Z",
     "iopub.status.idle": "2023-05-04T14:14:04.745659Z",
     "shell.execute_reply": "2023-05-04T14:14:04.744715Z",
     "shell.execute_reply.started": "2023-05-04T14:14:04.738154Z"
    }
   },
   "outputs": [],
   "source": [
    "def plot_learning_curve(train_loss, val_loss, train_metric, val_metric, metric_name='Accuracy'):\n",
    "    plt.figure(figsize=(10,5))\n",
    "    \n",
    "    plt.subplot(1,2,1)\n",
    "    plt.plot(train_loss, 'r--')\n",
    "    plt.plot(val_loss, 'b--')\n",
    "    plt.xlabel(\"epochs\")\n",
    "    plt.ylabel(\"Loss\")\n",
    "    plt.legend(['train', 'val'], loc='upper left')\n",
    "\n",
    "    plt.subplot(1,2,2)\n",
    "    plt.plot(train_metric, 'r--')\n",
    "    plt.plot(val_metric, 'b--')\n",
    "    plt.xlabel(\"epochs\")\n",
    "    plt.ylabel(metric_name)\n",
    "    plt.legend(['train', 'val'], loc='upper left')\n",
    "    \n",
    "    plt.axhline(y = max(train_metric), color = 'r', linestyle = '-')\n",
    "    plt.axhline(y = max(val_metric), color = 'b', linestyle = '-')\n",
    "\n",
    "    plt.show()"
   ]
  },
  {
   "cell_type": "code",
   "execution_count": null,
   "metadata": {
    "execution": {
     "iopub.execute_input": "2023-05-04T14:14:04.954451Z",
     "iopub.status.busy": "2023-05-04T14:14:04.953773Z",
     "iopub.status.idle": "2023-05-04T14:14:05.176380Z",
     "shell.execute_reply": "2023-05-04T14:14:05.175545Z",
     "shell.execute_reply.started": "2023-05-04T14:14:04.954415Z"
    }
   },
   "outputs": [],
   "source": [
    "INPUT_DIM = (64,64,3)\n",
    "\n",
    "HIDDEN_LAYER_1 = 256\n",
    "HIDDEN_LAYER_2 = 64\n",
    "HIDDEN_LAYER_3 = 8\n",
    "\n",
    "OUTPUT_CLASSES = 8\n",
    "\n",
    "model = tf.keras.Sequential([\n",
    "    #VGG block 1\n",
    "    tf.keras.layers.Conv2D(32, (3, 3), activation='relu', padding='same', \n",
    "                           input_shape=INPUT_DIM),\n",
    "    tf.keras.layers.Conv2D(32, (3, 3), activation='relu', padding='same'),\n",
    "    tf.keras.layers.MaxPooling2D((2, 2)),\n",
    "    #VGG block 2\n",
    "    tf.keras.layers.Conv2D(64, (3, 3), activation='relu', padding='same'),\n",
    "    tf.keras.layers.Conv2D(64, (3, 3), activation='relu', padding='same'),\n",
    "    tf.keras.layers.MaxPooling2D((2, 2)),\n",
    "    \n",
    "    #VGG block 3\n",
    "    tf.keras.layers.Conv2D(128, (3, 3), activation='relu', padding='same'),\n",
    "    tf.keras.layers.Conv2D(128, (3, 3), activation='relu', padding='same'),\n",
    "    tf.keras.layers.MaxPooling2D((2, 2)),\n",
    "    tf.keras.layers.Flatten(),\n",
    "    tf.keras.layers.Dense(HIDDEN_LAYER_1, activation='relu'),\n",
    "    tf.keras.layers.Dense(HIDDEN_LAYER_2, activation='relu'),\n",
    "    tf.keras.layers.Dense(HIDDEN_LAYER_3, activation='softmax'),\n",
    "    \n",
    "    tf.keras.layers.Dense(OUTPUT_CLASSES)\n",
    "])\n",
    "\n",
    "model.summary()"
   ]
  },
  {
   "cell_type": "code",
   "execution_count": null,
   "metadata": {
    "execution": {
     "iopub.execute_input": "2023-05-04T14:14:11.765306Z",
     "iopub.status.busy": "2023-05-04T14:14:11.764950Z",
     "iopub.status.idle": "2023-05-04T14:14:11.778349Z",
     "shell.execute_reply": "2023-05-04T14:14:11.777035Z",
     "shell.execute_reply.started": "2023-05-04T14:14:11.765277Z"
    }
   },
   "outputs": [],
   "source": [
    "from sklearn.utils import class_weight\n",
    "class_weights = class_weight.compute_class_weight(class_weight='balanced', y=train_generator.classes, classes=np.unique(train_generator.classes))\n",
    "class_weights"
   ]
  },
  {
   "cell_type": "code",
   "execution_count": null,
   "metadata": {
    "execution": {
     "iopub.execute_input": "2023-05-04T14:14:12.023001Z",
     "iopub.status.busy": "2023-05-04T14:14:12.022623Z",
     "iopub.status.idle": "2023-05-04T14:14:12.028090Z",
     "shell.execute_reply": "2023-05-04T14:14:12.027075Z",
     "shell.execute_reply.started": "2023-05-04T14:14:12.022968Z"
    }
   },
   "outputs": [],
   "source": [
    "class_weights_dict = {}\n",
    "for k, v in enumerate(class_weights):\n",
    "    class_weights_dict[k]= v\n",
    "    "
   ]
  },
  {
   "cell_type": "code",
   "execution_count": null,
   "metadata": {
    "execution": {
     "iopub.execute_input": "2023-05-04T14:14:12.245242Z",
     "iopub.status.busy": "2023-05-04T14:14:12.244546Z",
     "iopub.status.idle": "2023-05-04T14:14:12.265376Z",
     "shell.execute_reply": "2023-05-04T14:14:12.264357Z",
     "shell.execute_reply.started": "2023-05-04T14:14:12.245198Z"
    }
   },
   "outputs": [],
   "source": [
    "\n",
    "model.compile(optimizer='adam',\n",
    "              loss='mean_squared_logarithmic_error', # tf.keras.losses.CategoricalCrossentropy(from_logits=True)\n",
    "              metrics=['accuracy'])\n"
   ]
  },
  {
   "cell_type": "code",
   "execution_count": null,
   "metadata": {
    "execution": {
     "iopub.execute_input": "2023-05-04T14:14:27.139256Z",
     "iopub.status.busy": "2023-05-04T14:14:27.138665Z",
     "iopub.status.idle": "2023-05-04T14:14:27.162884Z",
     "shell.execute_reply": "2023-05-04T14:14:27.161984Z",
     "shell.execute_reply.started": "2023-05-04T14:14:27.139208Z"
    }
   },
   "outputs": [],
   "source": [
    "from tensorflow.python.client import device_lib\n",
    "len(device_lib.list_local_devices()) "
   ]
  },
  {
   "cell_type": "code",
   "execution_count": null,
   "metadata": {
    "execution": {
     "iopub.execute_input": "2023-05-04T14:14:27.339554Z",
     "iopub.status.busy": "2023-05-04T14:14:27.338586Z",
     "iopub.status.idle": "2023-05-04T14:14:28.721908Z",
     "shell.execute_reply": "2023-05-04T14:14:28.720681Z",
     "shell.execute_reply.started": "2023-05-04T14:14:27.339515Z"
    }
   },
   "outputs": [],
   "source": [
    "!nvidia-smi"
   ]
  },
  {
   "cell_type": "code",
   "execution_count": null,
   "metadata": {
    "execution": {
     "iopub.execute_input": "2023-05-04T14:14:28.725103Z",
     "iopub.status.busy": "2023-05-04T14:14:28.724378Z",
     "iopub.status.idle": "2023-05-04T14:16:07.226830Z",
     "shell.execute_reply": "2023-05-04T14:16:07.223501Z",
     "shell.execute_reply.started": "2023-05-04T14:14:28.725063Z"
    }
   },
   "outputs": [],
   "source": [
    "history = model.fit(train_generator, validation_data = test_generator,\n",
    "                              epochs=20, verbose=2, class_weight=class_weights_dict)\n"
   ]
  },
  {
   "cell_type": "code",
   "execution_count": null,
   "metadata": {
    "execution": {
     "iopub.status.busy": "2023-05-04T14:10:05.378528Z",
     "iopub.status.idle": "2023-05-04T14:10:05.379267Z",
     "shell.execute_reply": "2023-05-04T14:10:05.379049Z",
     "shell.execute_reply.started": "2023-05-04T14:10:05.379025Z"
    }
   },
   "outputs": [],
   "source": [
    "plot_learning_curve(history.history['loss'], history.history['val_loss'], \n",
    "                    history.history['accuracy'], history.history['val_accuracy'], \n",
    "                    metric_name='Accuracy')"
   ]
  },
  {
   "cell_type": "code",
   "execution_count": null,
   "metadata": {
    "execution": {
     "iopub.status.busy": "2023-05-04T14:10:05.380629Z",
     "iopub.status.idle": "2023-05-04T14:10:05.381480Z",
     "shell.execute_reply": "2023-05-04T14:10:05.381249Z",
     "shell.execute_reply.started": "2023-05-04T14:10:05.381212Z"
    }
   },
   "outputs": [],
   "source": [
    "# cm = sklearn.metrics.multilabel_confusion_matrix(test_generator.classes, model.predict(test_generator))\n",
    "prediction = model.predict(test_generator)\n",
    "index_max = prediction.argmax(axis=1)\n",
    "print(index_max.shape)\n",
    "# print(prediction[index_max])"
   ]
  },
  {
   "cell_type": "code",
   "execution_count": null,
   "metadata": {
    "execution": {
     "iopub.status.busy": "2023-05-04T14:10:05.382891Z",
     "iopub.status.idle": "2023-05-04T14:10:05.383715Z",
     "shell.execute_reply": "2023-05-04T14:10:05.383496Z",
     "shell.execute_reply.started": "2023-05-04T14:10:05.383470Z"
    }
   },
   "outputs": [],
   "source": [
    "prediction"
   ]
  },
  {
   "cell_type": "code",
   "execution_count": null,
   "metadata": {
    "execution": {
     "iopub.status.busy": "2023-05-04T14:10:05.385001Z",
     "iopub.status.idle": "2023-05-04T14:10:05.385725Z",
     "shell.execute_reply": "2023-05-04T14:10:05.385515Z",
     "shell.execute_reply.started": "2023-05-04T14:10:05.385492Z"
    }
   },
   "outputs": [],
   "source": [
    "prediction.shape"
   ]
  },
  {
   "cell_type": "code",
   "execution_count": null,
   "metadata": {
    "execution": {
     "iopub.status.busy": "2023-05-04T14:10:05.387196Z",
     "iopub.status.idle": "2023-05-04T14:10:05.388020Z",
     "shell.execute_reply": "2023-05-04T14:10:05.387769Z",
     "shell.execute_reply.started": "2023-05-04T14:10:05.387742Z"
    }
   },
   "outputs": [],
   "source": [
    "\n",
    "# fix, ax = plt.subplots(2, 4, sharex=True, figsize=(20,10))\n",
    "# ax = ax.flatten()\n",
    "# for i in range(7):\n",
    "    # sns.histplot(data=new, ax=ax[i])"
   ]
  },
  {
   "cell_type": "code",
   "execution_count": null,
   "metadata": {
    "execution": {
     "iopub.status.busy": "2023-05-04T14:10:05.389317Z",
     "iopub.status.idle": "2023-05-04T14:10:05.390047Z",
     "shell.execute_reply": "2023-05-04T14:10:05.389816Z",
     "shell.execute_reply.started": "2023-05-04T14:10:05.389793Z"
    }
   },
   "outputs": [],
   "source": [
    "cm = tf.math.confusion_matrix(test_generator.classes, index_max, num_classes=8)\n",
    "# cm = sklearn.metrics.multilabel_confusion_matrix(test_generator.classes, index_max)\n",
    "\n",
    "\n",
    "print(cm)"
   ]
  },
  {
   "cell_type": "code",
   "execution_count": null,
   "metadata": {
    "execution": {
     "iopub.status.busy": "2023-05-04T14:10:05.391386Z",
     "iopub.status.idle": "2023-05-04T14:10:05.392121Z",
     "shell.execute_reply": "2023-05-04T14:10:05.391904Z",
     "shell.execute_reply.started": "2023-05-04T14:10:05.391865Z"
    }
   },
   "outputs": [],
   "source": [
    "plt.figure(figsize=(20,15))\n",
    "fx=sns.heatmap(cm, annot=True, fmt=\".2f\",cmap=\"GnBu\")\n",
    "fx.set_title('Confusion Matrix \\n');\n",
    "fx.set_xlabel('\\n Predicted Values\\n')\n",
    "fx.set_ylabel('Actual Values\\n');\n",
    "fx.xaxis.set_ticklabels(train_generator.class_indices)\n",
    "fx.yaxis.set_ticklabels(train_generator.class_indices)\n",
    "plt.show()\n"
   ]
  },
  {
   "cell_type": "code",
   "execution_count": null,
   "metadata": {},
   "outputs": [],
   "source": []
  },
  {
   "cell_type": "code",
   "execution_count": null,
   "metadata": {},
   "outputs": [],
   "source": []
  }
 ],
 "metadata": {
  "kernelspec": {
   "display_name": "Python 3 (ipykernel)",
   "language": "python",
   "name": "python3"
  },
  "language_info": {
   "codemirror_mode": {
    "name": "ipython",
    "version": 3
   },
   "file_extension": ".py",
   "mimetype": "text/x-python",
   "name": "python",
   "nbconvert_exporter": "python",
   "pygments_lexer": "ipython3",
   "version": "3.10.9"
  }
 },
 "nbformat": 4,
 "nbformat_minor": 4
}
